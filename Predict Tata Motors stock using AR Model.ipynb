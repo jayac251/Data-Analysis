{
 "cells": [
  {
   "cell_type": "code",
   "execution_count": 1,
   "id": "9666fb02",
   "metadata": {},
   "outputs": [],
   "source": [
    "from datetime import date\n",
    "from nsepy import get_history\n",
    "import pandas as pd\n",
    "import numpy as np\n",
    "import matplotlib.pyplot as plt "
   ]
  },
  {
   "cell_type": "code",
   "execution_count": 2,
   "id": "abf679b6",
   "metadata": {
    "collapsed": true
   },
   "outputs": [
    {
     "data": {
      "text/plain": [
       "Date\n",
       "2021-12-02    479.1\n",
       "2021-12-03    480.1\n",
       "2021-12-06    467.2\n",
       "Name: Close, dtype: float64"
      ]
     },
     "execution_count": 2,
     "metadata": {},
     "output_type": "execute_result"
    }
   ],
   "source": [
    "data = get_history(symbol='TATAMOTORS',\n",
    "                   start=date(2021,9,1),\n",
    "                   end=date(2021,12,1))['Close']\n",
    "\n"
   ]
  },
  {
   "cell_type": "code",
   "execution_count": 3,
   "id": "424d2789",
   "metadata": {},
   "outputs": [
    {
     "data": {
      "text/html": [
       "<div>\n",
       "<style scoped>\n",
       "    .dataframe tbody tr th:only-of-type {\n",
       "        vertical-align: middle;\n",
       "    }\n",
       "\n",
       "    .dataframe tbody tr th {\n",
       "        vertical-align: top;\n",
       "    }\n",
       "\n",
       "    .dataframe thead th {\n",
       "        text-align: right;\n",
       "    }\n",
       "</style>\n",
       "<table border=\"1\" class=\"dataframe\">\n",
       "  <thead>\n",
       "    <tr style=\"text-align: right;\">\n",
       "      <th></th>\n",
       "      <th>Close</th>\n",
       "    </tr>\n",
       "    <tr>\n",
       "      <th>Date</th>\n",
       "      <th></th>\n",
       "    </tr>\n",
       "  </thead>\n",
       "  <tbody>\n",
       "    <tr>\n",
       "      <th>2021-09-01</th>\n",
       "      <td>295.25</td>\n",
       "    </tr>\n",
       "    <tr>\n",
       "      <th>2021-09-02</th>\n",
       "      <td>293.15</td>\n",
       "    </tr>\n",
       "    <tr>\n",
       "      <th>2021-09-03</th>\n",
       "      <td>295.55</td>\n",
       "    </tr>\n",
       "    <tr>\n",
       "      <th>2021-09-06</th>\n",
       "      <td>297.45</td>\n",
       "    </tr>\n",
       "    <tr>\n",
       "      <th>2021-09-07</th>\n",
       "      <td>294.60</td>\n",
       "    </tr>\n",
       "    <tr>\n",
       "      <th>...</th>\n",
       "      <td>...</td>\n",
       "    </tr>\n",
       "    <tr>\n",
       "      <th>2021-11-25</th>\n",
       "      <td>492.75</td>\n",
       "    </tr>\n",
       "    <tr>\n",
       "      <th>2021-11-26</th>\n",
       "      <td>460.20</td>\n",
       "    </tr>\n",
       "    <tr>\n",
       "      <th>2021-11-29</th>\n",
       "      <td>461.45</td>\n",
       "    </tr>\n",
       "    <tr>\n",
       "      <th>2021-11-30</th>\n",
       "      <td>458.60</td>\n",
       "    </tr>\n",
       "    <tr>\n",
       "      <th>2021-12-01</th>\n",
       "      <td>475.25</td>\n",
       "    </tr>\n",
       "  </tbody>\n",
       "</table>\n",
       "<p>66 rows × 1 columns</p>\n",
       "</div>"
      ],
      "text/plain": [
       "             Close\n",
       "Date              \n",
       "2021-09-01  295.25\n",
       "2021-09-02  293.15\n",
       "2021-09-03  295.55\n",
       "2021-09-06  297.45\n",
       "2021-09-07  294.60\n",
       "...            ...\n",
       "2021-11-25  492.75\n",
       "2021-11-26  460.20\n",
       "2021-11-29  461.45\n",
       "2021-11-30  458.60\n",
       "2021-12-01  475.25\n",
       "\n",
       "[66 rows x 1 columns]"
      ]
     },
     "execution_count": 3,
     "metadata": {},
     "output_type": "execute_result"
    }
   ],
   "source": [
    "data\n",
    "df_tatamotors= pd.DataFrame(data)\n",
    "df_tatamotors = df_tatamotors.asfreq('b')   # < -- setting b (business days) \n",
    "                                        #avoids unnecessary time periods\n",
    "    \n",
    "df_tatamotors"
   ]
  },
  {
   "cell_type": "code",
   "execution_count": 4,
   "id": "8cf4ade8",
   "metadata": {},
   "outputs": [
    {
     "data": {
      "text/plain": [
       "Close    4\n",
       "dtype: int64"
      ]
     },
     "execution_count": 4,
     "metadata": {},
     "output_type": "execute_result"
    }
   ],
   "source": [
    "df_tatamotors.isna().sum()"
   ]
  },
  {
   "cell_type": "code",
   "execution_count": 5,
   "id": "9febfd99",
   "metadata": {},
   "outputs": [],
   "source": [
    "df_tatamotors = df_tatamotors.dropna()"
   ]
  },
  {
   "cell_type": "code",
   "execution_count": 6,
   "id": "27b734a1",
   "metadata": {},
   "outputs": [
    {
     "data": {
      "text/plain": [
       "Date\n",
       "2021-09-01    295.25\n",
       "2021-09-02    293.15\n",
       "2021-09-03    295.55\n",
       "2021-09-06    297.45\n",
       "2021-09-07    294.60\n",
       "               ...  \n",
       "2021-11-25    492.75\n",
       "2021-11-26    460.20\n",
       "2021-11-29    461.45\n",
       "2021-11-30    458.60\n",
       "2021-12-01    475.25\n",
       "Name: Close, Length: 62, dtype: float64"
      ]
     },
     "execution_count": 6,
     "metadata": {},
     "output_type": "execute_result"
    }
   ],
   "source": [
    "df_tatamotors['Close']"
   ]
  },
  {
   "cell_type": "code",
   "execution_count": 7,
   "id": "4c6fdbca",
   "metadata": {},
   "outputs": [
    {
     "data": {
      "image/png": "[encoded data removed]",
      "text/plain": [
       "<Figure size 432x288 with 1 Axes>"
      ]
     },
     "metadata": {
      "needs_background": "light"
     },
     "output_type": "display_data"
    }
   ],
   "source": [
    "import matplotlib\n",
    "import matplotlib.pyplot as plt\n",
    "%matplotlib inline\n",
    "\n",
    "# Plotting Tatamotors stock\n",
    "\n",
    "ax = df_tatamotors['Close'].plot()\n",
    "ax.set_ylabel('TataMotors Stock Price')\n",
    "plt.show()"
   ]
  },
  {
   "cell_type": "code",
   "execution_count": 8,
   "id": "3a62ad60",
   "metadata": {},
   "outputs": [
    {
     "data": {
      "text/plain": [
       "(-1.2027343857864952,\n",
       " 0.6724183434670685,\n",
       " 0,\n",
       " 61,\n",
       " {'1%': -3.542412746661615,\n",
       "  '5%': -2.910236235808284,\n",
       "  '10%': -2.5927445767266866},\n",
       " 433.1292691248326)"
      ]
     },
     "execution_count": 8,
     "metadata": {},
     "output_type": "execute_result"
    }
   ],
   "source": [
    "#Stationarity and the ADF Test\n",
    "\n",
    "from statsmodels.tsa.stattools import adfuller\n",
    "result = adfuller(df_tatamotors['Close'])\n",
    "result"
   ]
  },
  {
   "cell_type": "code",
   "execution_count": 9,
   "id": "e91ebe6c",
   "metadata": {},
   "outputs": [
    {
     "name": "stdout",
     "output_type": "stream",
     "text": [
      "Series is not Stationary\n"
     ]
    }
   ],
   "source": [
    "p_value = result[1]\n",
    "\n",
    "#Check stationarity\n",
    "if p_value < 0.05 :\n",
    "    print('Series is Stationary')\n",
    "else :\n",
    "    print('Series is not Stationary')"
   ]
  },
  {
   "cell_type": "code",
   "execution_count": 10,
   "id": "f90844da",
   "metadata": {},
   "outputs": [
    {
     "data": {
      "text/html": [
       "<div>\n",
       "<style scoped>\n",
       "    .dataframe tbody tr th:only-of-type {\n",
       "        vertical-align: middle;\n",
       "    }\n",
       "\n",
       "    .dataframe tbody tr th {\n",
       "        vertical-align: top;\n",
       "    }\n",
       "\n",
       "    .dataframe thead th {\n",
       "        text-align: right;\n",
       "    }\n",
       "</style>\n",
       "<table border=\"1\" class=\"dataframe\">\n",
       "  <thead>\n",
       "    <tr style=\"text-align: right;\">\n",
       "      <th></th>\n",
       "      <th>Close</th>\n",
       "    </tr>\n",
       "    <tr>\n",
       "      <th>Date</th>\n",
       "      <th></th>\n",
       "    </tr>\n",
       "  </thead>\n",
       "  <tbody>\n",
       "    <tr>\n",
       "      <th>2021-09-02</th>\n",
       "      <td>-2.10</td>\n",
       "    </tr>\n",
       "    <tr>\n",
       "      <th>2021-09-03</th>\n",
       "      <td>2.40</td>\n",
       "    </tr>\n",
       "    <tr>\n",
       "      <th>2021-09-06</th>\n",
       "      <td>1.90</td>\n",
       "    </tr>\n",
       "    <tr>\n",
       "      <th>2021-09-07</th>\n",
       "      <td>-2.85</td>\n",
       "    </tr>\n",
       "    <tr>\n",
       "      <th>2021-09-08</th>\n",
       "      <td>0.65</td>\n",
       "    </tr>\n",
       "    <tr>\n",
       "      <th>...</th>\n",
       "      <td>...</td>\n",
       "    </tr>\n",
       "    <tr>\n",
       "      <th>2021-11-25</th>\n",
       "      <td>4.10</td>\n",
       "    </tr>\n",
       "    <tr>\n",
       "      <th>2021-11-26</th>\n",
       "      <td>-32.55</td>\n",
       "    </tr>\n",
       "    <tr>\n",
       "      <th>2021-11-29</th>\n",
       "      <td>1.25</td>\n",
       "    </tr>\n",
       "    <tr>\n",
       "      <th>2021-11-30</th>\n",
       "      <td>-2.85</td>\n",
       "    </tr>\n",
       "    <tr>\n",
       "      <th>2021-12-01</th>\n",
       "      <td>16.65</td>\n",
       "    </tr>\n",
       "  </tbody>\n",
       "</table>\n",
       "<p>61 rows × 1 columns</p>\n",
       "</div>"
      ],
      "text/plain": [
       "            Close\n",
       "Date             \n",
       "2021-09-02  -2.10\n",
       "2021-09-03   2.40\n",
       "2021-09-06   1.90\n",
       "2021-09-07  -2.85\n",
       "2021-09-08   0.65\n",
       "...           ...\n",
       "2021-11-25   4.10\n",
       "2021-11-26 -32.55\n",
       "2021-11-29   1.25\n",
       "2021-11-30  -2.85\n",
       "2021-12-01  16.65\n",
       "\n",
       "[61 rows x 1 columns]"
      ]
     },
     "execution_count": 10,
     "metadata": {},
     "output_type": "execute_result"
    }
   ],
   "source": [
    "#Perform differencing as the series is not stationary\n",
    "\n",
    "differenced_data = df_tatamotors.diff(periods=1).dropna()\n",
    "differenced_data"
   ]
  },
  {
   "cell_type": "code",
   "execution_count": 11,
   "id": "ecde1a60",
   "metadata": {},
   "outputs": [
    {
     "data": {
      "text/plain": [
       "Date\n",
       "2021-09-02    -2.10\n",
       "2021-09-03     2.40\n",
       "2021-09-06     1.90\n",
       "2021-09-07    -2.85\n",
       "2021-09-08     0.65\n",
       "              ...  \n",
       "2021-11-25     4.10\n",
       "2021-11-26   -32.55\n",
       "2021-11-29     1.25\n",
       "2021-11-30    -2.85\n",
       "2021-12-01    16.65\n",
       "Name: Close, Length: 61, dtype: float64"
      ]
     },
     "execution_count": 11,
     "metadata": {},
     "output_type": "execute_result"
    }
   ],
   "source": [
    "differenced_data['Close']"
   ]
  },
  {
   "cell_type": "code",
   "execution_count": 12,
   "id": "c97d6a78",
   "metadata": {},
   "outputs": [
    {
     "data": {
      "image/png": "[encoded data removed]",
      "text/plain": [
       "<Figure size 432x288 with 1 Axes>"
      ]
     },
     "metadata": {
      "needs_background": "light"
     },
     "output_type": "display_data"
    }
   ],
   "source": [
    "# Plotting Tatamotors stock\n",
    "\n",
    "ax = differenced_data['Close'].plot()\n",
    "ax.set_ylabel('TataMotors difference Stock Price')\n",
    "plt.show()"
   ]
  },
  {
   "cell_type": "code",
   "execution_count": 13,
   "id": "1ac2d43f",
   "metadata": {},
   "outputs": [
    {
     "name": "stdout",
     "output_type": "stream",
     "text": [
      "(-8.416332025232206, 2.0390030488341028e-13, 0, 60, {'1%': -3.5443688564814813, '5%': -2.9110731481481484, '10%': -2.5931902777777776}, 427.1214924041061)\n",
      "Series is Stationary\n"
     ]
    }
   ],
   "source": [
    "#Check for stationarity\n",
    "\n",
    "result = adfuller(differenced_data['Close'])\n",
    "p_value = result[1]\n",
    "\n",
    "print(result)\n",
    "\n",
    "#Check stationarity\n",
    "if p_value < 0.05 :\n",
    "    print('Series is Stationary')\n",
    "else :\n",
    "    print('Series is not Stationary')"
   ]
  },
  {
   "cell_type": "code",
   "execution_count": 14,
   "id": "92d44db0",
   "metadata": {},
   "outputs": [
    {
     "data": {
      "image/png": "[encoded data removed]",
      "text/plain": [
       "<Figure size 432x288 with 1 Axes>"
      ]
     },
     "metadata": {
      "needs_background": "light"
     },
     "output_type": "display_data"
    }
   ],
   "source": [
    "#Lags ACF\n",
    "from statsmodels.graphics.tsaplots import plot_acf\n",
    "\n",
    "plot_acf(differenced_data['Close'],lags=20)  \n",
    "                                    \n",
    "plt.show()"
   ]
  },
  {
   "cell_type": "code",
   "execution_count": 15,
   "id": "511393c1",
   "metadata": {},
   "outputs": [
    {
     "data": {
      "image/png": "[encoded data removed]",
      "text/plain": [
       "<Figure size 432x288 with 1 Axes>"
      ]
     },
     "metadata": {
      "needs_background": "light"
     },
     "output_type": "display_data"
    }
   ],
   "source": [
    "#PACF\n",
    "\n",
    "from statsmodels.graphics.tsaplots import plot_pacf\n",
    "\n",
    "plot_pacf(differenced_data['Close'],lags=20) \n",
    "                                    \n",
    "plt.show()"
   ]
  },
  {
   "cell_type": "code",
   "execution_count": 16,
   "id": "bbd99570",
   "metadata": {},
   "outputs": [],
   "source": [
    "from sklearn.metrics import r2_score\n",
    "from statsmodels.regression.linear_model import yule_walker\n",
    "\n",
    "def evaluate(order):\n",
    "    \n",
    "    #take last ten years of data for test set\n",
    "    train = list(differenced_data['Close'])[:-10]\n",
    "    test = list(differenced_data['Close'])[-10:]\n",
    "    \n",
    "    coeffs,sigma = yule_walker(train, order = order )\n",
    "    #print('Coefficients: ', -coeffs)\n",
    "    #print('Sigma: ', sigma)\n",
    "    \n",
    "    # Make a list of differenced values\n",
    "    val_list = list(train)\n",
    "    val_list\n",
    "\n",
    "    # Reverse the list so that the order corresponds with the order of the coefficients\n",
    "    val_list.reverse()  #performs inplace list reversal\n",
    "\n",
    "    #Define the number of years to predict\n",
    "    n_steps = 10\n",
    "    # for each year to predict\n",
    "    for i in range(n_steps):\n",
    "        #print('i = ',i)\n",
    "   \n",
    "        #Compute the new value as the sum of lagged values multiplied by their corresponding coeffs\n",
    "        new_val = 0\n",
    "        #print(' New val = ', new_val)\n",
    "        for j in range(len(coeffs)):\n",
    "            new_val += coeffs[j] * val_list[j]\n",
    "            #print(' After computation = ', new_val)\n",
    "        \n",
    "        #Insert the new value at the beginning of the list\n",
    "        val_list.insert(0, new_val)\n",
    "        #print('final new val', new_val)\n",
    "    \n",
    "    #reverse to have the order of time\n",
    "    val_list.reverse()\n",
    "\n",
    "    #Add the orignal first value back into the lost and do a cumulative sum to undo the differencing\n",
    "    val_list = [df_tatamotors['Close'].values[0]] + val_list\n",
    "\n",
    "    new_val_list = pd.Series(val_list).cumsum()\n",
    "    \n",
    "    #plot the newly obtained list\n",
    "\n",
    "    validation = pd.DataFrame(\n",
    "    {\n",
    "        'original':df_tatamotors['Close'].reset_index(drop='True'),\n",
    "        'prediction':new_val_list\n",
    "    })\n",
    "    \n",
    "    return r2_score(validation.iloc[-10:,0],validation.iloc[-10:,1])\n",
    "    "
   ]
  },
  {
   "cell_type": "code",
   "execution_count": 17,
   "id": "fba9aa78",
   "metadata": {},
   "outputs": [
    {
     "data": {
      "text/html": [
       "<div>\n",
       "<style scoped>\n",
       "    .dataframe tbody tr th:only-of-type {\n",
       "        vertical-align: middle;\n",
       "    }\n",
       "\n",
       "    .dataframe tbody tr th {\n",
       "        vertical-align: top;\n",
       "    }\n",
       "\n",
       "    .dataframe thead th {\n",
       "        text-align: right;\n",
       "    }\n",
       "</style>\n",
       "<table border=\"1\" class=\"dataframe\">\n",
       "  <thead>\n",
       "    <tr style=\"text-align: right;\">\n",
       "      <th></th>\n",
       "      <th>orders</th>\n",
       "      <th>r2scores</th>\n",
       "    </tr>\n",
       "  </thead>\n",
       "  <tbody>\n",
       "    <tr>\n",
       "      <th>0</th>\n",
       "      <td>1</td>\n",
       "      <td>-2.061730</td>\n",
       "    </tr>\n",
       "    <tr>\n",
       "      <th>1</th>\n",
       "      <td>2</td>\n",
       "      <td>-2.414731</td>\n",
       "    </tr>\n",
       "    <tr>\n",
       "      <th>2</th>\n",
       "      <td>3</td>\n",
       "      <td>-2.309808</td>\n",
       "    </tr>\n",
       "    <tr>\n",
       "      <th>3</th>\n",
       "      <td>4</td>\n",
       "      <td>-2.540031</td>\n",
       "    </tr>\n",
       "    <tr>\n",
       "      <th>4</th>\n",
       "      <td>5</td>\n",
       "      <td>-2.521514</td>\n",
       "    </tr>\n",
       "    <tr>\n",
       "      <th>5</th>\n",
       "      <td>6</td>\n",
       "      <td>-2.168779</td>\n",
       "    </tr>\n",
       "    <tr>\n",
       "      <th>6</th>\n",
       "      <td>7</td>\n",
       "      <td>-1.777539</td>\n",
       "    </tr>\n",
       "    <tr>\n",
       "      <th>7</th>\n",
       "      <td>8</td>\n",
       "      <td>-2.616753</td>\n",
       "    </tr>\n",
       "    <tr>\n",
       "      <th>8</th>\n",
       "      <td>9</td>\n",
       "      <td>-2.774631</td>\n",
       "    </tr>\n",
       "    <tr>\n",
       "      <th>9</th>\n",
       "      <td>10</td>\n",
       "      <td>-2.129474</td>\n",
       "    </tr>\n",
       "    <tr>\n",
       "      <th>10</th>\n",
       "      <td>11</td>\n",
       "      <td>-1.835766</td>\n",
       "    </tr>\n",
       "    <tr>\n",
       "      <th>11</th>\n",
       "      <td>12</td>\n",
       "      <td>-2.399523</td>\n",
       "    </tr>\n",
       "    <tr>\n",
       "      <th>12</th>\n",
       "      <td>13</td>\n",
       "      <td>-2.229453</td>\n",
       "    </tr>\n",
       "    <tr>\n",
       "      <th>13</th>\n",
       "      <td>14</td>\n",
       "      <td>-2.344532</td>\n",
       "    </tr>\n",
       "    <tr>\n",
       "      <th>14</th>\n",
       "      <td>15</td>\n",
       "      <td>-2.777868</td>\n",
       "    </tr>\n",
       "    <tr>\n",
       "      <th>15</th>\n",
       "      <td>16</td>\n",
       "      <td>-2.416950</td>\n",
       "    </tr>\n",
       "    <tr>\n",
       "      <th>16</th>\n",
       "      <td>17</td>\n",
       "      <td>-2.679169</td>\n",
       "    </tr>\n",
       "    <tr>\n",
       "      <th>17</th>\n",
       "      <td>18</td>\n",
       "      <td>-3.164903</td>\n",
       "    </tr>\n",
       "    <tr>\n",
       "      <th>18</th>\n",
       "      <td>19</td>\n",
       "      <td>-2.051548</td>\n",
       "    </tr>\n",
       "    <tr>\n",
       "      <th>19</th>\n",
       "      <td>20</td>\n",
       "      <td>-2.308408</td>\n",
       "    </tr>\n",
       "    <tr>\n",
       "      <th>20</th>\n",
       "      <td>21</td>\n",
       "      <td>-2.473876</td>\n",
       "    </tr>\n",
       "    <tr>\n",
       "      <th>21</th>\n",
       "      <td>22</td>\n",
       "      <td>-2.414916</td>\n",
       "    </tr>\n",
       "    <tr>\n",
       "      <th>22</th>\n",
       "      <td>23</td>\n",
       "      <td>-0.493659</td>\n",
       "    </tr>\n",
       "    <tr>\n",
       "      <th>23</th>\n",
       "      <td>24</td>\n",
       "      <td>0.313191</td>\n",
       "    </tr>\n",
       "    <tr>\n",
       "      <th>24</th>\n",
       "      <td>25</td>\n",
       "      <td>0.313226</td>\n",
       "    </tr>\n",
       "    <tr>\n",
       "      <th>25</th>\n",
       "      <td>26</td>\n",
       "      <td>-0.314094</td>\n",
       "    </tr>\n",
       "    <tr>\n",
       "      <th>26</th>\n",
       "      <td>27</td>\n",
       "      <td>-0.744724</td>\n",
       "    </tr>\n",
       "    <tr>\n",
       "      <th>27</th>\n",
       "      <td>28</td>\n",
       "      <td>-0.199967</td>\n",
       "    </tr>\n",
       "    <tr>\n",
       "      <th>28</th>\n",
       "      <td>29</td>\n",
       "      <td>-3.277614</td>\n",
       "    </tr>\n",
       "    <tr>\n",
       "      <th>29</th>\n",
       "      <td>30</td>\n",
       "      <td>-9.522464</td>\n",
       "    </tr>\n",
       "  </tbody>\n",
       "</table>\n",
       "</div>"
      ],
      "text/plain": [
       "    orders  r2scores\n",
       "0        1 -2.061730\n",
       "1        2 -2.414731\n",
       "2        3 -2.309808\n",
       "3        4 -2.540031\n",
       "4        5 -2.521514\n",
       "5        6 -2.168779\n",
       "6        7 -1.777539\n",
       "7        8 -2.616753\n",
       "8        9 -2.774631\n",
       "9       10 -2.129474\n",
       "10      11 -1.835766\n",
       "11      12 -2.399523\n",
       "12      13 -2.229453\n",
       "13      14 -2.344532\n",
       "14      15 -2.777868\n",
       "15      16 -2.416950\n",
       "16      17 -2.679169\n",
       "17      18 -3.164903\n",
       "18      19 -2.051548\n",
       "19      20 -2.308408\n",
       "20      21 -2.473876\n",
       "21      22 -2.414916\n",
       "22      23 -0.493659\n",
       "23      24  0.313191\n",
       "24      25  0.313226\n",
       "25      26 -0.314094\n",
       "26      27 -0.744724\n",
       "27      28 -0.199967\n",
       "28      29 -3.277614\n",
       "29      30 -9.522464"
      ]
     },
     "execution_count": 17,
     "metadata": {},
     "output_type": "execute_result"
    }
   ],
   "source": [
    "# For each order between 1 to 31, fit and evaluate the model\n",
    "\n",
    "orders = []\n",
    "r2scores=[]\n",
    "\n",
    "for order in range(1 ,31):\n",
    "    orders.append(order)\n",
    "    r2scores.append(evaluate(order))\n",
    "    \n",
    "#create  a result dataframe\n",
    "results = pd.DataFrame(\n",
    "{\n",
    "    'orders': orders,\n",
    "    'r2scores':r2scores\n",
    "})\n",
    "\n",
    "results"
   ]
  },
  {
   "cell_type": "code",
   "execution_count": 18,
   "id": "f422bf02",
   "metadata": {},
   "outputs": [
    {
     "data": {
      "text/html": [
       "<div>\n",
       "<style scoped>\n",
       "    .dataframe tbody tr th:only-of-type {\n",
       "        vertical-align: middle;\n",
       "    }\n",
       "\n",
       "    .dataframe tbody tr th {\n",
       "        vertical-align: top;\n",
       "    }\n",
       "\n",
       "    .dataframe thead th {\n",
       "        text-align: right;\n",
       "    }\n",
       "</style>\n",
       "<table border=\"1\" class=\"dataframe\">\n",
       "  <thead>\n",
       "    <tr style=\"text-align: right;\">\n",
       "      <th></th>\n",
       "      <th>orders</th>\n",
       "      <th>r2scores</th>\n",
       "    </tr>\n",
       "  </thead>\n",
       "  <tbody>\n",
       "    <tr>\n",
       "      <th>24</th>\n",
       "      <td>25</td>\n",
       "      <td>0.313226</td>\n",
       "    </tr>\n",
       "  </tbody>\n",
       "</table>\n",
       "</div>"
      ],
      "text/plain": [
       "    orders  r2scores\n",
       "24      25  0.313226"
      ]
     },
     "execution_count": 18,
     "metadata": {},
     "output_type": "execute_result"
    }
   ],
   "source": [
    "#show the order with best R2 score\n",
    "filt_cond = results.max()['r2scores']\n",
    "results[results['r2scores'] == filt_cond]"
   ]
  },
  {
   "cell_type": "code",
   "execution_count": 27,
   "id": "41f8f7b4",
   "metadata": {},
   "outputs": [
    {
     "name": "stdout",
     "output_type": "stream",
     "text": [
      "Coefficients:  [ 1.07248186e-01 -3.88480028e-01  2.30862271e-01  1.63235344e-02\n",
      " -5.88095513e-02  3.47212328e-01  2.36552905e-01 -3.14827100e-01\n",
      " -2.52337674e-02  5.20823856e-01  2.01227618e-02 -2.62508991e-01\n",
      "  4.73373036e-01  1.49516969e-01 -3.14039530e-01  2.53784932e-01\n",
      "  1.86534008e-01 -9.06012667e-02  2.55436994e-01  1.39604812e-01\n",
      " -9.58611748e-02 -7.06492461e-02  2.62865288e-01  2.52780208e-01\n",
      "  3.84671280e-05]\n",
      "Sigma:  11.305241246941945\n"
     ]
    }
   ],
   "source": [
    "#Now fitting to AR(13) model\n",
    "#take last ten years of data for test set\n",
    "\n",
    "#take last ten years of data for test set\n",
    "train = list(differenced_data['Close'])[:-10]\n",
    "test = list(differenced_data['Close'])[-10:]\n",
    "    \n",
    "coeffs,sigma = yule_walker(train, order = 25 )\n",
    "print('Coefficients: ', -coeffs)\n",
    "print('Sigma: ', sigma)\n",
    "    \n",
    "# Make a list of differenced values\n",
    "val_list = list(train)\n",
    "val_list\n",
    "\n",
    "# Reverse the list so that the order corresponds with the order of the coefficients\n",
    "val_list.reverse()  #performs inplace list reversal\n",
    "\n",
    "#Define the number of years to predict\n",
    "n_steps = 20\n",
    "# for each year to predict\n",
    "for i in range(n_steps):\n",
    "    #print('i = ',i)   \n",
    "    #Compute the new value as the sum of lagged values multiplied by their corresponding coeffs\n",
    "     new_val = 0\n",
    "     #print(' New val = ', new_val)\n",
    "     for j in range(len(coeffs)):\n",
    "        new_val += coeffs[j] * val_list[j]\n",
    "        #print(' After computation = ', new_val)\n",
    "        \n",
    "     #Insert the new value at the beginning of the list\n",
    "     val_list.insert(0, new_val)\n",
    "     #print('final new val', new_val)\n",
    "    \n",
    " #reverse to have the order of time\n",
    "val_list.reverse()\n",
    "\n",
    "#Add the orignal first value back into the lost and do a cumulative sum to undo the differencing\n",
    "val_list = [df_tatamotors['Close'].values[0]] + val_list\n",
    "\n",
    "new_val_list = pd.Series(val_list).cumsum()\n",
    "    \n",
    "#plot the newly obtained list\n",
    "\n",
    "validation = pd.DataFrame(\n",
    "{\n",
    "  'original':df_tatamotors['Close'].reset_index(drop='True'),\n",
    "  'prediction':new_val_list\n",
    "})"
   ]
  },
  {
   "cell_type": "code",
   "execution_count": 28,
   "id": "53555ef5",
   "metadata": {},
   "outputs": [
    {
     "data": {
      "text/html": [
       "<div>\n",
       "<style scoped>\n",
       "    .dataframe tbody tr th:only-of-type {\n",
       "        vertical-align: middle;\n",
       "    }\n",
       "\n",
       "    .dataframe tbody tr th {\n",
       "        vertical-align: top;\n",
       "    }\n",
       "\n",
       "    .dataframe thead th {\n",
       "        text-align: right;\n",
       "    }\n",
       "</style>\n",
       "<table border=\"1\" class=\"dataframe\">\n",
       "  <thead>\n",
       "    <tr style=\"text-align: right;\">\n",
       "      <th></th>\n",
       "      <th>original</th>\n",
       "      <th>prediction</th>\n",
       "    </tr>\n",
       "  </thead>\n",
       "  <tbody>\n",
       "    <tr>\n",
       "      <th>52</th>\n",
       "      <td>530.15</td>\n",
       "      <td>517.341294</td>\n",
       "    </tr>\n",
       "    <tr>\n",
       "      <th>53</th>\n",
       "      <td>509.70</td>\n",
       "      <td>490.071151</td>\n",
       "    </tr>\n",
       "    <tr>\n",
       "      <th>54</th>\n",
       "      <td>486.10</td>\n",
       "      <td>481.592918</td>\n",
       "    </tr>\n",
       "    <tr>\n",
       "      <th>55</th>\n",
       "      <td>495.50</td>\n",
       "      <td>486.276450</td>\n",
       "    </tr>\n",
       "    <tr>\n",
       "      <th>56</th>\n",
       "      <td>488.65</td>\n",
       "      <td>486.695362</td>\n",
       "    </tr>\n",
       "    <tr>\n",
       "      <th>57</th>\n",
       "      <td>492.75</td>\n",
       "      <td>475.685852</td>\n",
       "    </tr>\n",
       "    <tr>\n",
       "      <th>58</th>\n",
       "      <td>460.20</td>\n",
       "      <td>476.475300</td>\n",
       "    </tr>\n",
       "    <tr>\n",
       "      <th>59</th>\n",
       "      <td>461.45</td>\n",
       "      <td>490.387462</td>\n",
       "    </tr>\n",
       "    <tr>\n",
       "      <th>60</th>\n",
       "      <td>458.60</td>\n",
       "      <td>493.471976</td>\n",
       "    </tr>\n",
       "    <tr>\n",
       "      <th>61</th>\n",
       "      <td>475.25</td>\n",
       "      <td>479.756806</td>\n",
       "    </tr>\n",
       "    <tr>\n",
       "      <th>62</th>\n",
       "      <td>NaN</td>\n",
       "      <td>478.008831</td>\n",
       "    </tr>\n",
       "    <tr>\n",
       "      <th>63</th>\n",
       "      <td>NaN</td>\n",
       "      <td>495.031934</td>\n",
       "    </tr>\n",
       "    <tr>\n",
       "      <th>64</th>\n",
       "      <td>NaN</td>\n",
       "      <td>495.899715</td>\n",
       "    </tr>\n",
       "    <tr>\n",
       "      <th>65</th>\n",
       "      <td>NaN</td>\n",
       "      <td>479.589373</td>\n",
       "    </tr>\n",
       "    <tr>\n",
       "      <th>66</th>\n",
       "      <td>NaN</td>\n",
       "      <td>486.806831</td>\n",
       "    </tr>\n",
       "    <tr>\n",
       "      <th>67</th>\n",
       "      <td>NaN</td>\n",
       "      <td>502.042543</td>\n",
       "    </tr>\n",
       "    <tr>\n",
       "      <th>68</th>\n",
       "      <td>NaN</td>\n",
       "      <td>497.796139</td>\n",
       "    </tr>\n",
       "    <tr>\n",
       "      <th>69</th>\n",
       "      <td>NaN</td>\n",
       "      <td>482.000672</td>\n",
       "    </tr>\n",
       "    <tr>\n",
       "      <th>70</th>\n",
       "      <td>NaN</td>\n",
       "      <td>478.454105</td>\n",
       "    </tr>\n",
       "    <tr>\n",
       "      <th>71</th>\n",
       "      <td>NaN</td>\n",
       "      <td>494.966083</td>\n",
       "    </tr>\n",
       "  </tbody>\n",
       "</table>\n",
       "</div>"
      ],
      "text/plain": [
       "    original  prediction\n",
       "52    530.15  517.341294\n",
       "53    509.70  490.071151\n",
       "54    486.10  481.592918\n",
       "55    495.50  486.276450\n",
       "56    488.65  486.695362\n",
       "57    492.75  475.685852\n",
       "58    460.20  476.475300\n",
       "59    461.45  490.387462\n",
       "60    458.60  493.471976\n",
       "61    475.25  479.756806\n",
       "62       NaN  478.008831\n",
       "63       NaN  495.031934\n",
       "64       NaN  495.899715\n",
       "65       NaN  479.589373\n",
       "66       NaN  486.806831\n",
       "67       NaN  502.042543\n",
       "68       NaN  497.796139\n",
       "69       NaN  482.000672\n",
       "70       NaN  478.454105\n",
       "71       NaN  494.966083"
      ]
     },
     "execution_count": 28,
     "metadata": {},
     "output_type": "execute_result"
    }
   ],
   "source": [
    "validation.tail(20)"
   ]
  },
  {
   "cell_type": "code",
   "execution_count": 29,
   "id": "f54eee9e",
   "metadata": {},
   "outputs": [
    {
     "data": {
      "image/png": "[encoded data removed]",
      "text/plain": [
       "<Figure size 432x288 with 1 Axes>"
      ]
     },
     "metadata": {
      "needs_background": "light"
     },
     "output_type": "display_data"
    }
   ],
   "source": [
    "#print('Test R2:', r2_score(validation.iloc[-10:,0],validation.iloc[-10:,1]))\n",
    "\n",
    "#plot newly obtained list\n",
    "plt.plot(validation)\n",
    "plt.legend(validation.columns)\n",
    "plt.ylabel('Stock Prediction')\n",
    "plt.show()"
   ]
  },
  {
   "cell_type": "code",
   "execution_count": 30,
   "id": "0dddb2c8",
   "metadata": {},
   "outputs": [
    {
     "data": {
      "text/html": [
       "<div>\n",
       "<style scoped>\n",
       "    .dataframe tbody tr th:only-of-type {\n",
       "        vertical-align: middle;\n",
       "    }\n",
       "\n",
       "    .dataframe tbody tr th {\n",
       "        vertical-align: top;\n",
       "    }\n",
       "\n",
       "    .dataframe thead th {\n",
       "        text-align: right;\n",
       "    }\n",
       "</style>\n",
       "<table border=\"1\" class=\"dataframe\">\n",
       "  <thead>\n",
       "    <tr style=\"text-align: right;\">\n",
       "      <th></th>\n",
       "      <th>Close</th>\n",
       "    </tr>\n",
       "    <tr>\n",
       "      <th>Date</th>\n",
       "      <th></th>\n",
       "    </tr>\n",
       "  </thead>\n",
       "  <tbody>\n",
       "    <tr>\n",
       "      <th>2021-11-17</th>\n",
       "      <td>530.15</td>\n",
       "    </tr>\n",
       "    <tr>\n",
       "      <th>2021-11-18</th>\n",
       "      <td>509.70</td>\n",
       "    </tr>\n",
       "    <tr>\n",
       "      <th>2021-11-22</th>\n",
       "      <td>486.10</td>\n",
       "    </tr>\n",
       "    <tr>\n",
       "      <th>2021-11-23</th>\n",
       "      <td>495.50</td>\n",
       "    </tr>\n",
       "    <tr>\n",
       "      <th>2021-11-24</th>\n",
       "      <td>488.65</td>\n",
       "    </tr>\n",
       "    <tr>\n",
       "      <th>2021-11-25</th>\n",
       "      <td>492.75</td>\n",
       "    </tr>\n",
       "    <tr>\n",
       "      <th>2021-11-26</th>\n",
       "      <td>460.20</td>\n",
       "    </tr>\n",
       "    <tr>\n",
       "      <th>2021-11-29</th>\n",
       "      <td>461.45</td>\n",
       "    </tr>\n",
       "    <tr>\n",
       "      <th>2021-11-30</th>\n",
       "      <td>458.60</td>\n",
       "    </tr>\n",
       "    <tr>\n",
       "      <th>2021-12-01</th>\n",
       "      <td>475.25</td>\n",
       "    </tr>\n",
       "  </tbody>\n",
       "</table>\n",
       "</div>"
      ],
      "text/plain": [
       "             Close\n",
       "Date              \n",
       "2021-11-17  530.15\n",
       "2021-11-18  509.70\n",
       "2021-11-22  486.10\n",
       "2021-11-23  495.50\n",
       "2021-11-24  488.65\n",
       "2021-11-25  492.75\n",
       "2021-11-26  460.20\n",
       "2021-11-29  461.45\n",
       "2021-11-30  458.60\n",
       "2021-12-01  475.25"
      ]
     },
     "execution_count": 30,
     "metadata": {},
     "output_type": "execute_result"
    }
   ],
   "source": [
    "df_tatamotors.tail(10)"
   ]
  },
  {
   "cell_type": "code",
   "execution_count": 23,
   "id": "a31cc80b",
   "metadata": {},
   "outputs": [
    {
     "data": {
      "text/plain": [
       "Date\n",
       "2021-12-02    479.1\n",
       "2021-12-03    480.1\n",
       "2021-12-06    467.2\n",
       "Name: Close, dtype: float64"
      ]
     },
     "execution_count": 23,
     "metadata": {},
     "output_type": "execute_result"
    }
   ],
   "source": [
    "check = get_history(symbol='TATAMOTORS',\n",
    "                   start=date(2021,12,2),\n",
    "                   end=date(2021,12,6))['Close']\n",
    "\n",
    "check"
   ]
  },
  {
   "cell_type": "code",
   "execution_count": 34,
   "id": "83b81202",
   "metadata": {},
   "outputs": [
    {
     "data": {
      "text/html": [
       "<div>\n",
       "<style scoped>\n",
       "    .dataframe tbody tr th:only-of-type {\n",
       "        vertical-align: middle;\n",
       "    }\n",
       "\n",
       "    .dataframe tbody tr th {\n",
       "        vertical-align: top;\n",
       "    }\n",
       "\n",
       "    .dataframe thead th {\n",
       "        text-align: right;\n",
       "    }\n",
       "</style>\n",
       "<table border=\"1\" class=\"dataframe\">\n",
       "  <thead>\n",
       "    <tr style=\"text-align: right;\">\n",
       "      <th></th>\n",
       "      <th>original</th>\n",
       "      <th>prediction</th>\n",
       "    </tr>\n",
       "  </thead>\n",
       "  <tbody>\n",
       "    <tr>\n",
       "      <th>61</th>\n",
       "      <td>475.25</td>\n",
       "      <td>479.756806</td>\n",
       "    </tr>\n",
       "    <tr>\n",
       "      <th>62</th>\n",
       "      <td>NaN</td>\n",
       "      <td>478.008831</td>\n",
       "    </tr>\n",
       "    <tr>\n",
       "      <th>63</th>\n",
       "      <td>NaN</td>\n",
       "      <td>495.031934</td>\n",
       "    </tr>\n",
       "    <tr>\n",
       "      <th>64</th>\n",
       "      <td>NaN</td>\n",
       "      <td>495.899715</td>\n",
       "    </tr>\n",
       "    <tr>\n",
       "      <th>65</th>\n",
       "      <td>NaN</td>\n",
       "      <td>479.589373</td>\n",
       "    </tr>\n",
       "    <tr>\n",
       "      <th>66</th>\n",
       "      <td>NaN</td>\n",
       "      <td>486.806831</td>\n",
       "    </tr>\n",
       "    <tr>\n",
       "      <th>67</th>\n",
       "      <td>NaN</td>\n",
       "      <td>502.042543</td>\n",
       "    </tr>\n",
       "    <tr>\n",
       "      <th>68</th>\n",
       "      <td>NaN</td>\n",
       "      <td>497.796139</td>\n",
       "    </tr>\n",
       "    <tr>\n",
       "      <th>69</th>\n",
       "      <td>NaN</td>\n",
       "      <td>482.000672</td>\n",
       "    </tr>\n",
       "    <tr>\n",
       "      <th>70</th>\n",
       "      <td>NaN</td>\n",
       "      <td>478.454105</td>\n",
       "    </tr>\n",
       "    <tr>\n",
       "      <th>71</th>\n",
       "      <td>NaN</td>\n",
       "      <td>494.966083</td>\n",
       "    </tr>\n",
       "  </tbody>\n",
       "</table>\n",
       "</div>"
      ],
      "text/plain": [
       "    original  prediction\n",
       "61    475.25  479.756806\n",
       "62       NaN  478.008831\n",
       "63       NaN  495.031934\n",
       "64       NaN  495.899715\n",
       "65       NaN  479.589373\n",
       "66       NaN  486.806831\n",
       "67       NaN  502.042543\n",
       "68       NaN  497.796139\n",
       "69       NaN  482.000672\n",
       "70       NaN  478.454105\n",
       "71       NaN  494.966083"
      ]
     },
     "execution_count": 34,
     "metadata": {},
     "output_type": "execute_result"
    }
   ],
   "source": [
    "validation.tail(11)"
   ]
  }
 ],
 "metadata": {
  "kernelspec": {
   "display_name": "Python 3 (ipykernel)",
   "language": "python",
   "name": "python3"
  },
  "language_info": {
   "codemirror_mode": {
    "name": "ipython",
    "version": 3
   },
   "file_extension": ".py",
   "mimetype": "text/x-python",
   "name": "python",
   "nbconvert_exporter": "python",
   "pygments_lexer": "ipython3",
   "version": "3.9.7"
  }
 },
 "nbformat": 4,
 "nbformat_minor": 5
}
